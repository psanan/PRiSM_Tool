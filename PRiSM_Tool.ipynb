{
 "cells": [
  {
   "cell_type": "markdown",
   "metadata": {},
   "source": [
    "In the \"Cell\" menu, select \"Run All\""
   ]
  },
  {
   "cell_type": "markdown",
   "metadata": {},
   "source": [
    "## Activate Package\n",
    "This takes care of all the dependencies (other pieces of software) that we rely on."
   ]
  },
  {
   "cell_type": "code",
   "execution_count": null,
   "metadata": {
    "scrolled": true
   },
   "outputs": [],
   "source": [
    "import Pkg; Pkg.activate(\".\"); Pkg.instantiate()"
   ]
  },
  {
   "cell_type": "code",
   "execution_count": null,
   "metadata": {
    "scrolled": true
   },
   "outputs": [],
   "source": [
    "using Revise  # Development tool - must come first, otherwise don't worry about it!"
   ]
  },
  {
   "cell_type": "markdown",
   "metadata": {},
   "source": [
    "## Custom Mesh Package\n",
    "This package provides a simple wrapper for some of the functionality of [p4est](https://p4est.org), a powerful, low-level library for massively-parallel adaptive mesh refinement (AMR)."
   ]
  },
  {
   "cell_type": "code",
   "execution_count": null,
   "metadata": {},
   "outputs": [],
   "source": [
    "using SimpleTreeMeshes"
   ]
  },
  {
   "cell_type": "markdown",
   "metadata": {},
   "source": [
    "## Helpers\n",
    "Other packages to help with plotting, printing, etc."
   ]
  },
  {
   "cell_type": "code",
   "execution_count": null,
   "metadata": {},
   "outputs": [],
   "source": [
    "using Plots\n",
    "using Printf\n",
    "using Images, FileIO"
   ]
  },
  {
   "cell_type": "markdown",
   "metadata": {},
   "source": [
    "## An image used to drive the simulation"
   ]
  },
  {
   "cell_type": "code",
   "execution_count": null,
   "metadata": {
    "scrolled": false
   },
   "outputs": [],
   "source": [
    "#image_name = \"images/prism_square.png\"\n",
    "image_name = \"images/scribble.png\"\n",
    "\n",
    "img = Gray.(load(image_name))\n",
    "sz = size(img)\n",
    "mask_size = min(sz[1], sz[2])\n",
    "img2 = img[1:mask_size, 1:mask_size]\n",
    "mask_r = convert(Array{Float16}, img2)\n",
    "mask = zeros(size(mask_r))\n",
    "for i = 1:mask_size\n",
    "    for j = 1:mask_size\n",
    "        mask[i,j] = mask_r[mask_size - j + 1,i]\n",
    "    end\n",
    "end\n",
    "display(img2)"
   ]
  },
  {
   "cell_type": "markdown",
   "metadata": {},
   "source": [
    "## Defining a Physical Problem"
   ]
  },
  {
   "cell_type": "code",
   "execution_count": null,
   "metadata": {},
   "outputs": [],
   "source": [
    "struct Problem\n",
    "  name::String\n",
    "  boundary_conditions::StokesBoundaryConditions\n",
    "  eta::Function\n",
    "  eta_min::Float64\n",
    "  eta_max::Float64\n",
    "  eta_ref::Float64\n",
    "  f_x::Function\n",
    "  f_y::Function\n",
    "  f_p::Function\n",
    "  vx_ref::Function\n",
    "  vy_ref::Function\n",
    "  p_ref::Function\n",
    "  coordinate_scale::Float64\n",
    "  coordinate_offset_x::Float64\n",
    "  coordinate_offset_y::Float64\n",
    "end"
   ]
  },
  {
   "cell_type": "code",
   "execution_count": null,
   "metadata": {},
   "outputs": [],
   "source": [
    "function image_value(x, y)\n",
    "  @assert 0 <= x <= 1  \n",
    "  @assert 0 <= y <= 1  \n",
    "  return mask[Int(floor(x * mask_size)), Int(floor(y * mask_size))]\n",
    "end;\n",
    "\n",
    "function problem_Image()\n",
    "    eta(x, y) = 1.0\n",
    "    eta_min = 1.0\n",
    "    eta_max= 1.0\n",
    "    eta_ref = sqrt(eta_min * eta_max)\n",
    "\n",
    "    f_vy(x,y) = -10.0 * (1.0 - image_value(x,y))\n",
    "    f_vx(x, y) = 0.0\n",
    "    f_p(x, y) = 0.0 \n",
    "    \n",
    "    vx_ref(x, y) = 0.0\n",
    "    vy_ref(x, y) = 0.0\n",
    "    p_ref(x, y) = 0.0\n",
    " \n",
    "    return Problem(\"Image\", stokes_boundary_free_slip, eta, eta_min, eta_max, eta_ref, f_vx, f_vy, f_p, \n",
    "                   vx_ref, vy_ref, p_ref, 1.0, 0.0, 0.0)\n",
    "    \n",
    "end;"
   ]
  },
  {
   "cell_type": "markdown",
   "metadata": {},
   "source": [
    "## Refinement function"
   ]
  },
  {
   "cell_type": "code",
   "execution_count": null,
   "metadata": {},
   "outputs": [],
   "source": [
    "min_level = 1;\n",
    "max_level = 6\n",
    "\n",
    "function refinement_function(x, y, d, level)::Bool\n",
    "    \n",
    "    if level <= min_level;  return true; end\n",
    "    if level >= max_level;  return false;  end\n",
    "\n",
    "    # attempt to refine if all local pixels aren't in a constant band of values \n",
    "    mx_min = max(1, Int(ceil(x * (mask_size - 1))))\n",
    "    my_min = max(1, Int(ceil(y * (mask_size - 1))))\n",
    "\n",
    "    mx_max = max(1, Int(ceil((x + d) * (mask_size - 1))))\n",
    "    my_max = max(1, Int(ceil((y + d) * (mask_size - 1))))\n",
    "\n",
    "    max_local = 0\n",
    "    min_local = 1.0\n",
    "\n",
    "    for i = mx_min:mx_max\n",
    "        for j = my_min:my_max\n",
    "            val = mask[i,j]\n",
    "            if val > max_local\n",
    "                max_local = val\n",
    "            end\n",
    "            if val < min_local\n",
    "                min_local = val\n",
    "            end\n",
    "        end\n",
    "    end\n",
    "\n",
    "    return max_local - min_local > 0.2\n",
    "end;"
   ]
  },
  {
   "cell_type": "markdown",
   "metadata": {},
   "source": [
    "## Create our tree object"
   ]
  },
  {
   "cell_type": "code",
   "execution_count": null,
   "metadata": {},
   "outputs": [],
   "source": [
    "tree = CreateSimpleTreeMesh(refinement_function);"
   ]
  },
  {
   "cell_type": "markdown",
   "metadata": {},
   "source": [
    "## Plot to see the grid"
   ]
  },
  {
   "cell_type": "code",
   "execution_count": null,
   "metadata": {},
   "outputs": [],
   "source": [
    "start = time()\n",
    "plot_size = 600\n",
    "p_grid = plot(axis=nothing, xaxis=false, yaxis=false, size=(plot_size, plot_size), aspect_ratio=1)\n",
    "plot_grid!(p_grid, tree, RGB(0.5, 0.5, 0.5))\n",
    "plot_face_numbers!(p_grid, tree)\n",
    "plot_element_numbers!(p_grid, tree, offset=tree.nf) # Number after faces, as in our Stokes system\n",
    "plot_corner_numbers!(p_grid, tree) # A separate numbering system\n",
    "display(p_grid)\n",
    "@printf \"⏲️ %2.2f s\\n\" time()- start"
   ]
  },
  {
   "cell_type": "markdown",
   "metadata": {},
   "source": [
    "## Solve the Stokes system"
   ]
  },
  {
   "cell_type": "code",
   "execution_count": null,
   "metadata": {},
   "outputs": [],
   "source": [
    "start = time()\n",
    "tree = CreateSimpleTreeMesh(refinement_function)\n",
    "@printf \"⚙️ %d elements, %d faces, %d corners \" tree.ne tree.nf tree.nc\n",
    "@printf \"⏲️ %2.2f s\\n\" time() - start"
   ]
  },
  {
   "cell_type": "code",
   "execution_count": null,
   "metadata": {},
   "outputs": [],
   "source": [
    "start = time()\n",
    "h_min = 2.0^(-(max_level))\n",
    "problem = problem_Image()\n",
    "A, b, Kcont = assemble_system(tree, problem, h_min)\n",
    "x = A\\b\n",
    "v, p = sol2vp(tree, x, Kcont)\n",
    "@printf \"⏲️ %2.2f s\\n\" time() - start"
   ]
  },
  {
   "cell_type": "code",
   "execution_count": null,
   "metadata": {
    "scrolled": false
   },
   "outputs": [],
   "source": [
    "start = time()\n",
    "plot_size = 800\n",
    "p_stokes = plot(axis=nothing, xaxis=false, yaxis=false, size=(plot_size, plot_size), aspect_ratio=1)\n",
    "plot_element_field!(p_stokes, tree, p)\n",
    "c = RGB(0.25, 0.25, 0.25)\n",
    "plot_grid!(p_stokes, tree, c)\n",
    "plot_averaged_velocity_field!(p_stokes, tree, v, color=c)\n",
    "display(p_stokes)\n",
    "@printf \"⏲️ %2.2f s\\n\" time() - start"
   ]
  },
  {
   "cell_type": "code",
   "execution_count": null,
   "metadata": {},
   "outputs": [],
   "source": []
  }
 ],
 "metadata": {
  "kernelspec": {
   "display_name": "Julia 1.6.2",
   "language": "julia",
   "name": "julia-1.6"
  },
  "language_info": {
   "file_extension": ".jl",
   "mimetype": "application/julia",
   "name": "julia",
   "version": "1.6.2"
  }
 },
 "nbformat": 4,
 "nbformat_minor": 5
}

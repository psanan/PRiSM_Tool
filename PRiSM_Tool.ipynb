{
 "cells": [
  {
   "cell_type": "markdown",
   "id": "83190128",
   "metadata": {},
   "source": [
    "In the \"Cell\" menu, select \"Run All\""
   ]
  },
  {
   "cell_type": "markdown",
   "id": "54bf747c",
   "metadata": {},
   "source": [
    "## Activate Package\n",
    "This takes care of all the dependencies (other pieces of software) that we rely on."
   ]
  },
  {
   "cell_type": "code",
   "execution_count": null,
   "id": "384b4f4c",
   "metadata": {
    "scrolled": true
   },
   "outputs": [],
   "source": [
    "import Pkg; Pkg.activate(\".\"); Pkg.instantiate()"
   ]
  },
  {
   "cell_type": "code",
   "execution_count": null,
   "id": "996b5290",
   "metadata": {
    "scrolled": true
   },
   "outputs": [],
   "source": [
    "using Revise  # Development tool - must come first, otherwise don't worry about it!"
   ]
  },
  {
   "cell_type": "markdown",
   "id": "c35a245a",
   "metadata": {},
   "source": [
    "## Custom Mesh Package\n",
    "This package provides a simple wrapper for some of the functionality of [p4est](https://p4est.org), a powerful, low-level library for massively-parallel adaptive mesh refinement (AMR)."
   ]
  },
  {
   "cell_type": "code",
   "execution_count": null,
   "id": "e791c9e4",
   "metadata": {},
   "outputs": [],
   "source": [
    "using SimpleTreeMeshes"
   ]
  },
  {
   "cell_type": "markdown",
   "id": "0c900b2c",
   "metadata": {},
   "source": [
    "## Helpers\n",
    "Other packages to help with plotting, printing, etc."
   ]
  },
  {
   "cell_type": "code",
   "execution_count": null,
   "id": "9365e6ac",
   "metadata": {},
   "outputs": [],
   "source": [
    "using Plots\n",
    "using Printf\n",
    "using Images, FileIO"
   ]
  },
  {
   "cell_type": "markdown",
   "id": "5ce4e4ff",
   "metadata": {},
   "source": [
    "## An image used to drive the simulation"
   ]
  },
  {
   "cell_type": "code",
   "execution_count": null,
   "id": "7955d3e9",
   "metadata": {
    "scrolled": false
   },
   "outputs": [],
   "source": [
    "#image_name = \"images/prism_square.png\"\n",
    "image_name = \"images/scribble.png\"\n",
    "\n",
    "img = Gray.(load(image_name))\n",
    "sz = size(img)\n",
    "mask_size = min(sz[1], sz[2])\n",
    "img2 = img[1:mask_size, 1:mask_size]\n",
    "mask_r = convert(Array{Float16}, img2)\n",
    "mask = zeros(size(mask_r))\n",
    "for i = 1:mask_size\n",
    "    for j = 1:mask_size\n",
    "        mask[i,j] = mask_r[mask_size - j + 1,i]\n",
    "    end\n",
    "end\n",
    "display(img2)"
   ]
  },
  {
   "cell_type": "markdown",
   "id": "8532c79d",
   "metadata": {},
   "source": [
    "## Defining a Physical Problem"
   ]
  },
  {
   "cell_type": "code",
   "execution_count": null,
   "id": "39922cdd",
   "metadata": {},
   "outputs": [],
   "source": [
    "struct Problem\n",
    "  name::String\n",
    "  boundary_conditions::StokesBoundaryConditions\n",
    "  eta::Function\n",
    "  eta_min::Float64\n",
    "  eta_max::Float64\n",
    "  eta_ref::Float64\n",
    "  f_x::Function\n",
    "  f_y::Function\n",
    "  f_p::Function\n",
    "  vx_ref::Function\n",
    "  vy_ref::Function\n",
    "  p_ref::Function\n",
    "  coordinate_scale::Float64\n",
    "  coordinate_offset_x::Float64\n",
    "  coordinate_offset_y::Float64\n",
    "end"
   ]
  },
  {
   "cell_type": "code",
   "execution_count": null,
   "id": "69cbc6a8",
   "metadata": {},
   "outputs": [],
   "source": [
    "function image_value(x, y)\n",
    "  @assert 0 <= x <= 1  \n",
    "  @assert 0 <= y <= 1  \n",
    "  return mask[Int(floor(x * mask_size)), Int(floor(y * mask_size))]\n",
    "end;\n",
    "\n",
    "function problem_Image()\n",
    "    eta(x, y) = 1.0\n",
    "    eta_min = 1.0\n",
    "    eta_max= 1.0\n",
    "    eta_ref = sqrt(eta_min * eta_max)\n",
    "\n",
    "    f_vy(x,y) = -10.0 * (1.0 - image_value(x,y))\n",
    "    f_vx(x, y) = 0.0\n",
    "    f_p(x, y) = 0.0 \n",
    "    \n",
    "    vx_ref(x, y) = 0.0\n",
    "    vy_ref(x, y) = 0.0\n",
    "    p_ref(x, y) = 0.0\n",
    " \n",
    "    return Problem(\"Image\", stokes_boundary_free_slip, eta, eta_min, eta_max, eta_ref, f_vx, f_vy, f_p, \n",
    "                   vx_ref, vy_ref, p_ref, 1.0, 0.0, 0.0)\n",
    "    \n",
    "end;"
   ]
  },
  {
   "cell_type": "markdown",
   "id": "7dca476f",
   "metadata": {},
   "source": [
    "## Refinement function"
   ]
  },
  {
   "cell_type": "code",
   "execution_count": null,
   "id": "f4946598",
   "metadata": {},
   "outputs": [],
   "source": [
    "min_level = 1;\n",
    "max_level = 6\n",
    "\n",
    "function refinement_function(x, y, d, level)::Bool\n",
    "    \n",
    "    if level <= min_level;  return true; end\n",
    "    if level >= max_level;  return false;  end\n",
    "\n",
    "    # attempt to refine if all local pixels aren't in a constant band of values \n",
    "    mx_min = max(1, Int(ceil(x * (mask_size - 1))))\n",
    "    my_min = max(1, Int(ceil(y * (mask_size - 1))))\n",
    "\n",
    "    mx_max = max(1, Int(ceil((x + d) * (mask_size - 1))))\n",
    "    my_max = max(1, Int(ceil((y + d) * (mask_size - 1))))\n",
    "\n",
    "    max_local = 0\n",
    "    min_local = 1.0\n",
    "\n",
    "    for i = mx_min:mx_max\n",
    "        for j = my_min:my_max\n",
    "            val = mask[i,j]\n",
    "            if val > max_local\n",
    "                max_local = val\n",
    "            end\n",
    "            if val < min_local\n",
    "                min_local = val\n",
    "            end\n",
    "        end\n",
    "    end\n",
    "\n",
    "    return max_local - min_local > 0.2\n",
    "end;"
   ]
  },
  {
   "cell_type": "markdown",
   "id": "2cc94dac",
   "metadata": {},
   "source": [
    "## Create our tree object"
   ]
  },
  {
   "cell_type": "code",
   "execution_count": null,
   "id": "87083e00",
   "metadata": {},
   "outputs": [],
   "source": [
    "tree = CreateSimpleTreeMesh(refinement_function);"
   ]
  },
  {
   "cell_type": "markdown",
   "id": "9361d614",
   "metadata": {},
   "source": [
    "## Plot to see the grid"
   ]
  },
  {
   "cell_type": "code",
   "execution_count": null,
   "id": "327ac0d1",
   "metadata": {},
   "outputs": [],
   "source": [
    "start = time()\n",
    "plot_size = 600\n",
    "p_grid = plot(axis=nothing, xaxis=false, yaxis=false, size=(plot_size, plot_size), aspect_ratio=1)\n",
    "plot_grid!(p_grid, tree, RGB(0.5, 0.5, 0.5))\n",
    "plot_face_numbers!(p_grid, tree)\n",
    "plot_element_numbers!(p_grid, tree, offset=tree.nf) # Number after faces, as in our Stokes system\n",
    "plot_corner_numbers!(p_grid, tree) # A separate numbering system\n",
    "display(p_grid)\n",
    "@printf \"⏲️ %2.2f s\\n\" time()- start"
   ]
  },
  {
   "cell_type": "markdown",
   "id": "2a03921e",
   "metadata": {},
   "source": [
    "## Solve the Stokes system"
   ]
  },
  {
   "cell_type": "code",
   "execution_count": null,
   "id": "30550c62",
   "metadata": {},
   "outputs": [],
   "source": [
    "start = time()\n",
    "tree = CreateSimpleTreeMesh(refinement_function)\n",
    "@printf \"⚙️ %d elements, %d faces, %d corners \" tree.ne tree.nf tree.nc\n",
    "@printf \"⏲️ %2.2f s\\n\" time() - start"
   ]
  },
  {
   "cell_type": "code",
   "execution_count": null,
   "id": "19a63564",
   "metadata": {},
   "outputs": [],
   "source": [
    "start = time()\n",
    "h_min = 2.0^(-(max_level))\n",
    "problem = problem_Image()\n",
    "A, b, Kcont = assemble_system(tree, problem, h_min)\n",
    "x = A\\b\n",
    "v, p = sol2vp(tree, x, Kcont)\n",
    "@printf \"⏲️ %2.2f s\\n\" time() - start"
   ]
  },
  {
   "cell_type": "code",
   "execution_count": null,
   "id": "0076553a",
   "metadata": {
    "scrolled": false
   },
   "outputs": [],
   "source": [
    "start = time()\n",
    "plot_size = 800\n",
    "p_stokes = plot(axis=nothing, xaxis=false, yaxis=false, size=(plot_size, plot_size), aspect_ratio=1)\n",
    "plot_element_field!(p_stokes, tree, p)\n",
    "c = RGB(0.25, 0.25, 0.25)\n",
    "plot_grid!(p_stokes, tree, c)\n",
    "plot_averaged_velocity_field!(p_stokes, tree, v, color=c)\n",
    "display(p_stokes)\n",
    "@printf \"⏲️ %2.2f s\\n\" time() - start"
   ]
  },
  {
   "cell_type": "markdown",
   "id": "6320cad9",
   "metadata": {},
   "source": [
    "## Push a particle"
   ]
  },
  {
   "cell_type": "code",
   "execution_count": null,
   "id": "c50e6ac8",
   "metadata": {
    "scrolled": true
   },
   "outputs": [],
   "source": [
    "function test_element(tree, e_id, xp, yp)\n",
    "    @assert 1 <= e_id <= tree.ne\n",
    "    x, y = get_element_corner_coordinates(tree, e_id)\n",
    "    d = get_element_size(tree, e_id)\n",
    "    return (x <= xp <= x + d) && (y <= yp <= y + d)\n",
    "end\n",
    "\n",
    "function locate_point(tree, x, y, e_id_guess)\n",
    "    if test_element(tree, e_id_guess, x, y)\n",
    "       return e_id_guess\n",
    "    end\n",
    "    \n",
    "    if x < tree.coordinate_offset_x || x > tree.coordinate_offset_x + tree.coordinate_scale\n",
    "        error(\"x coordinate out of bounds\")\n",
    "    end\n",
    "    \n",
    "    if y < tree.coordinate_offset_y || y > tree.coordinate_offset_y + tree.coordinate_scale\n",
    "        error(\"y coordinate out of bounds\")\n",
    "    end\n",
    "    \n",
    "    e_id_left = e_id_guess - 1\n",
    "    e_id_right = e_id_guess + 1\n",
    "    while e_id_left >= 1 || e_id_right <= tree.ne\n",
    "        if e_id_left >= 1 \n",
    "            if test_element(tree, e_id_left, x, y)\n",
    "                return e_id_left\n",
    "            end\n",
    "            e_id_left -= 1\n",
    "        end\n",
    "        if e_id_right <= tree.ne \n",
    "            if test_element(tree, e_id_right, x, y)\n",
    "                return e_id_right\n",
    "            end\n",
    "        end\n",
    "        e_id_right += 1\n",
    "    end \n",
    "    @assert false\n",
    "end;"
   ]
  },
  {
   "cell_type": "code",
   "execution_count": null,
   "id": "2397825a",
   "metadata": {},
   "outputs": [],
   "source": [
    "function get_point_velocity(tree::SimpleTreeMesh, xp, yp, e_id, v)\n",
    "    @assert 1 <= e_id <= tree.ne\n",
    "    @assert length(v) == tree.nf\n",
    "    x, y = get_element_corner_coordinates(tree, e_id)\n",
    "    d = get_element_size(tree, e_id)\n",
    "    @assert (x <= xp <= x + d) && (y <= yp <= y + d)\n",
    "    eta = (xp - x)/d\n",
    "    f_id_left = tree.e2f[LEFT, e_id]\n",
    "    f_id_right = tree.e2f[RIGHT, e_id]\n",
    "    vx = (1.0 - eta) * v[f_id_left] + eta * v[f_id_right]\n",
    "\n",
    "    xi = (yp - y)/d\n",
    "    f_id_down = tree.e2f[DOWN, e_id]\n",
    "    f_id_up = tree.e2f[UP, e_id]\n",
    "    vy = (1.0 - xi) * v[f_id_down] + xi * v[f_id_up]\n",
    "    \n",
    "    return vx, vy\n",
    "end;"
   ]
  },
  {
   "cell_type": "code",
   "execution_count": null,
   "id": "dbd3861e",
   "metadata": {},
   "outputs": [],
   "source": [
    "function create_trace(tree, x0, y0, v, dt=50.0, nsteps=70)\n",
    "    particle_x = x0\n",
    "    particle_xs = []\n",
    "    particle_y = y0\n",
    "    particle_ys = []\n",
    "    e_id = tree.ne ÷ 2\n",
    "    dt = 1.0\n",
    "    for step in 1:nsteps\n",
    "       append!(particle_xs, particle_x)\n",
    "       append!(particle_ys, particle_y)\n",
    "       e_id = locate_point(tree, particle_x, particle_y, e_id)\n",
    "       vx, vy = get_point_velocity(tree, particle_x, particle_y, e_id, v)\n",
    "       particle_x += dt * vx\n",
    "       particle_y += dt * vy\n",
    "       if particle_x < tree.coordinate_offset_x; particle_x = tree.coordinate_offset_x; end\n",
    "       if particle_x > tree.coordinate_offset_x + tree.coordinate_scale; particle_x = tree.coordinate_offset_x + tree.coordinate_scale; end\n",
    "       if particle_y < tree.coordinate_offset_y; particle_y = tree.coordinate_offset_y; end\n",
    "       if particle_y > tree.coordinate_offset_y + tree.coordinate_scale; particle_y = tree.coordinate_offset_y + tree.coordinate_scale; end\n",
    "    end\n",
    "    return particle_xs, particle_ys\n",
    "end;"
   ]
  },
  {
   "cell_type": "code",
   "execution_count": null,
   "id": "0823cf41",
   "metadata": {},
   "outputs": [],
   "source": [
    "start = time()\n",
    "plot_size = 800\n",
    "p_stokes = plot(axis=nothing, xaxis=false, yaxis=false, size=(plot_size, plot_size), aspect_ratio=1)\n",
    "c = RGB(0.25, 0.25, 0.25)\n",
    "plot_grid!(p_stokes, tree, c)\n",
    "plot_averaged_velocity_field!(p_stokes, tree, v, color=c)\n",
    "plot!(p_stokes, create_trace(tree, 0.5, 0.5, v)..., markershape=:circle, label=nothing)\n",
    "plot!(p_stokes, create_trace(tree, 0.5, 0.6, v)..., markershape=:circle, label=nothing)\n",
    "plot!(p_stokes, create_trace(tree, 0.5, 0.7, v)..., markershape=:circle, label=nothing)\n",
    "plot!(p_stokes, create_trace(tree, 0.5, 0.8, v)..., markershape=:circle, label=nothing)\n",
    "plot!(p_stokes, create_trace(tree, 0.5, 0.9, v)..., markershape=:circle, label=nothing)\n",
    "display(p_stokes)\n",
    "@printf \"⏲️ %2.2f s\\n\" time() - start"
   ]
  },
  {
   "cell_type": "code",
   "execution_count": null,
   "id": "f3c5a292",
   "metadata": {},
   "outputs": [],
   "source": []
  }
 ],
 "metadata": {
  "kernelspec": {
   "display_name": "Julia 1.6.2",
   "language": "julia",
   "name": "julia-1.6"
  },
  "language_info": {
   "file_extension": ".jl",
   "mimetype": "application/julia",
   "name": "julia",
   "version": "1.6.2"
  }
 },
 "nbformat": 4,
 "nbformat_minor": 5
}

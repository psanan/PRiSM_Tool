{
 "cells": [
  {
   "cell_type": "markdown",
   "id": "c58255d4",
   "metadata": {},
   "source": [
    "# PRiSM Tool\n",
    "\n",
    "This notebook shows how to define and run a 2D fluid simulation using a non-uniform mesh, and extract signals from advected particles. \n",
    "\n",
    "It was first developed for a gathering with [PRiSM](https://www.rncm.ac.uk/research/research-centres-rncm/prism/) collaborators during and following the gather in Manchester, Sept 23-24, 2021.\n",
    "\n",
    "It is based on code used to explore new discretizations for the stationary [Stokes equations][1].\n",
    "These equations describe fluid flow in which viscous forces dominate, and are used to model\n",
    "microfluidics as well as the slow creep of solids, in particular rock in Earth's mantle and\n",
    "ice sheets. The equations arise by balancing viscous forces (forces arising from frictional resistance to velocity gradients in fluids) and pressure forces with applied forces (e.g. gravity), and enforcing conservation of mass, here by enforcing that the fluid is incompressible. \n",
    "\n",
    "The central technical challenge is solving these equations on a non-uniform yet highly-structured\n",
    "computational mesh. The computational domain (here a square) is divided into subdomains of\n",
    "regular shape but which may be subdivided to allow for greater accuracy in certain parts of the domain.\n",
    "\n",
    "The underlying assumption is that because there is an elegance and inherent aesthetic value in physical processes, it's worth while to use simulations of these processes in the composition of music.\n",
    "\n",
    "Here, a simple and direct approach is proposed to allow quick \"mapping\" of these simulations to simple parameters streams which may be of use in composition. This is of course a dangerous idea in many ways, as the underlying elegance and physical analogy may easily be lost. Nevertheless, this is presented as starting point for further explorations of this system and its aesthetic interpretation.\n",
    "\n",
    "A key computational method is particle advection. Point particles are pushed along by a given velocity field. This provides a time-parameterized series of data which can be used in the composition of musical works (which can in some sense also be though of as time-parameterized series of data).\n",
    "\n",
    "\n",
    "[1]: https://en.wikipedia.org/wiki/Stokes_flow\n",
    "[2]: https://en.wikipedia.org/wiki/Stokes_flow#Demonstration_of_time-reversibility"
   ]
  },
  {
   "cell_type": "markdown",
   "id": "1033571d",
   "metadata": {},
   "source": [
    "## This notebook\n",
    "\n",
    "Notebooks are a popular way to develop and share computational processes. They are somewhere between a REPL (enter things at a command line and get the results), and a more traditional program or script. They allow for commenting (like this) and inline presentation of images (as below). They are very useful for developing ideas and algorithms, much like a physical notebook.\n",
    "\n",
    "This notebook is quite long, to try and give some insight into how things work and the experimental process by which numerical algorithms are developed, but don't be put off by how long and code-heavy it is. Code found here could of course be adapted an encapsulated more, for futher usage. (And at the time of this writing, similar approaches in 3D are being used to develop an audiovisual installation).\n",
    "\n",
    "(If you use Julia enough to prefer normal `.jl` code, you can also use [Jupytext](https://github.com/mwouts/jupytext) or similar, e.g. ` jupytext --to jl PRiSM_Tool.ipynb` and adapt the resulting code to your needs)"
   ]
  },
  {
   "cell_type": "markdown",
   "id": "83190128",
   "metadata": {},
   "source": [
    "## To Run\n",
    "In the \"Cell\" menu, select \"Run All\".\n",
    "\n",
    "To re-run from scratch, click the ⏩ button.\n",
    "\n",
    "See `traces/` for output files generated at the bottom, and `play_trace.scd` for a (very) rudimentary example of interpreting this data with SuperCollider.\n",
    "\n",
    "Because Julia [compiles efficient low-level code \"Just in Time\"](https://docs.julialang.org/en/v1/#man-introduction), the first time running this notebook will be slower than subsequent runs."
   ]
  },
  {
   "cell_type": "markdown",
   "id": "0b128cdc",
   "metadata": {},
   "source": [
    "## Parameters\n",
    "Some of the more \"twiddle-able\" parameters are collected here."
   ]
  },
  {
   "cell_type": "code",
   "execution_count": null,
   "id": "a384c38b",
   "metadata": {},
   "outputs": [],
   "source": [
    "image_name = \"images/scribble.png\"\n",
    "\n",
    "max_level = 7;\n",
    "\n",
    "n_traces = 7\n",
    "x0s = LinRange(0.1, 0.9, n_traces);"
   ]
  },
  {
   "cell_type": "markdown",
   "id": "54bf747c",
   "metadata": {},
   "source": [
    "## Activate Package\n",
    "This takes care of all the dependencies (other pieces of software) that we rely on.\n",
    "The first time you run it, this will require an internet connection and may take a long time!"
   ]
  },
  {
   "cell_type": "code",
   "execution_count": null,
   "id": "384b4f4c",
   "metadata": {
    "scrolled": false
   },
   "outputs": [],
   "source": [
    "import Pkg; Pkg.activate(\".\"); Pkg.resolve(); Pkg.instantiate()"
   ]
  },
  {
   "cell_type": "code",
   "execution_count": null,
   "id": "996b5290",
   "metadata": {
    "scrolled": true
   },
   "outputs": [],
   "source": [
    "using Revise  # Development tool - must come first"
   ]
  },
  {
   "cell_type": "code",
   "execution_count": null,
   "id": "e91f1087",
   "metadata": {},
   "outputs": [],
   "source": [
    "using MPI  # Message Passing Interface (used by p4est, even though we run serially, here)\n",
    "MPI.Init();  # If familiar with MPI, you may want to omit this and/or finalize later"
   ]
  },
  {
   "cell_type": "markdown",
   "id": "c35a245a",
   "metadata": {},
   "source": [
    "## Custom Mesh Package\n",
    "This package provides a simple wrapper for some of the functionality of [p4est](https://p4est.org), a powerful, low-level library for massively-parallel adaptive mesh refinement (AMR). It's also [available on GitHub](https://github.com/psanan/SimpleTreeMeshes.jl)."
   ]
  },
  {
   "cell_type": "code",
   "execution_count": null,
   "id": "e791c9e4",
   "metadata": {},
   "outputs": [],
   "source": [
    "using SimpleTreeMeshes"
   ]
  },
  {
   "cell_type": "markdown",
   "id": "0c900b2c",
   "metadata": {},
   "source": [
    "## Helpers\n",
    "Other packages to help with plotting, printing, etc."
   ]
  },
  {
   "cell_type": "code",
   "execution_count": null,
   "id": "9365e6ac",
   "metadata": {},
   "outputs": [],
   "source": [
    "using Plots\n",
    "using Printf\n",
    "using Images, FileIO"
   ]
  },
  {
   "cell_type": "markdown",
   "id": "5ce4e4ff",
   "metadata": {},
   "source": [
    "## An image used to drive the simulation\n",
    "If you want to refine a lot, make sure it's high-enough resolution!"
   ]
  },
  {
   "cell_type": "code",
   "execution_count": null,
   "id": "7955d3e9",
   "metadata": {
    "scrolled": false
   },
   "outputs": [],
   "source": [
    "img = Gray.(load(image_name))\n",
    "sz = size(img)\n",
    "mask_size = min(sz[1], sz[2])\n",
    "img2 = img[1:mask_size, 1:mask_size]\n",
    "mask_r = convert(Array{Float16}, img2)\n",
    "mask = zeros(size(mask_r))\n",
    "for i = 1:mask_size\n",
    "    for j = 1:mask_size\n",
    "        mask[i,j] = mask_r[mask_size - j + 1,i]\n",
    "    end\n",
    "end\n",
    "display(img2)"
   ]
  },
  {
   "cell_type": "markdown",
   "id": "8532c79d",
   "metadata": {},
   "source": [
    "## Defining a Physical Problem"
   ]
  },
  {
   "cell_type": "code",
   "execution_count": null,
   "id": "39922cdd",
   "metadata": {},
   "outputs": [],
   "source": [
    "struct Problem\n",
    "  name::String\n",
    "  boundary_conditions::StokesBoundaryConditions\n",
    "  eta::Function\n",
    "  eta_min::Float64\n",
    "  eta_max::Float64\n",
    "  eta_ref::Float64\n",
    "  f_x::Function\n",
    "  f_y::Function\n",
    "  f_p::Function\n",
    "  vx_ref::Function\n",
    "  vy_ref::Function\n",
    "  p_ref::Function\n",
    "  coordinate_scale::Float64\n",
    "  coordinate_offset_x::Float64\n",
    "  coordinate_offset_y::Float64\n",
    "end"
   ]
  },
  {
   "cell_type": "code",
   "execution_count": null,
   "id": "69cbc6a8",
   "metadata": {},
   "outputs": [],
   "source": [
    "function image_value(x, y)\n",
    "  @assert 0 <= x <= 1  \n",
    "  @assert 0 <= y <= 1  \n",
    "  return mask[Int(floor(x * mask_size)), Int(floor(y * mask_size))]\n",
    "end;\n",
    "\n",
    "function problem_Image()\n",
    "    eta(x, y) = 1.0\n",
    "    eta_min = 1.0\n",
    "    eta_max= 1.0\n",
    "    eta_ref = sqrt(eta_min * eta_max)\n",
    "\n",
    "    f_vy(x,y) = -10.0 * (1.0 - image_value(x,y))\n",
    "    f_vx(x, y) = 0.0\n",
    "    f_p(x, y) = 0.0 \n",
    "    \n",
    "    vx_ref(x, y) = 0.0\n",
    "    vy_ref(x, y) = 0.0\n",
    "    p_ref(x, y) = 0.0\n",
    " \n",
    "    return Problem(\"Image\", stokes_boundary_free_slip, eta, eta_min, eta_max, eta_ref, f_vx, f_vy, f_p, \n",
    "                   vx_ref, vy_ref, p_ref, 1.0, 0.0, 0.0)\n",
    "    \n",
    "end;"
   ]
  },
  {
   "cell_type": "markdown",
   "id": "7dca476f",
   "metadata": {},
   "source": [
    "## Refinement function"
   ]
  },
  {
   "cell_type": "code",
   "execution_count": null,
   "id": "f4946598",
   "metadata": {},
   "outputs": [],
   "source": [
    "min_level = 1;\n",
    "\n",
    "function refinement_function(x, y, d, level)::Bool\n",
    "    \n",
    "    if level <= min_level;  return true; end\n",
    "    if level >= max_level;  return false;  end\n",
    "\n",
    "    # attempt to refine if all local pixels aren't in a constant band of values \n",
    "    mx_min = max(1, Int(ceil(x * (mask_size - 1))))\n",
    "    my_min = max(1, Int(ceil(y * (mask_size - 1))))\n",
    "\n",
    "    mx_max = max(1, Int(ceil((x + d) * (mask_size - 1))))\n",
    "    my_max = max(1, Int(ceil((y + d) * (mask_size - 1))))\n",
    "\n",
    "    max_local = 0\n",
    "    min_local = 1.0\n",
    "\n",
    "    for i = mx_min:mx_max\n",
    "        for j = my_min:my_max\n",
    "            val = mask[i,j]\n",
    "            if val > max_local\n",
    "                max_local = val\n",
    "            end\n",
    "            if val < min_local\n",
    "                min_local = val\n",
    "            end\n",
    "        end\n",
    "    end\n",
    "\n",
    "    return max_local - min_local > 0.2\n",
    "end;"
   ]
  },
  {
   "cell_type": "markdown",
   "id": "2cc94dac",
   "metadata": {},
   "source": [
    "## Create our tree object"
   ]
  },
  {
   "cell_type": "code",
   "execution_count": null,
   "id": "87083e00",
   "metadata": {},
   "outputs": [],
   "source": [
    "start = time()\n",
    "tree = CreateSimpleTreeMesh(refinement_function);\n",
    "@printf \"⚙️ %d elements, %d faces, %d corners \" tree.ne tree.nf tree.nc\n",
    "@printf \"⏲️ %2.2f s\\n\" time()- start"
   ]
  },
  {
   "cell_type": "markdown",
   "id": "9361d614",
   "metadata": {},
   "source": [
    "## Plot to see the grid"
   ]
  },
  {
   "cell_type": "code",
   "execution_count": null,
   "id": "327ac0d1",
   "metadata": {},
   "outputs": [],
   "source": [
    "start = time()\n",
    "plot_size = 1000\n",
    "p_grid = plot(axis=nothing, xaxis=false, yaxis=false, size=(plot_size, plot_size), aspect_ratio=1)\n",
    "plot_grid!(p_grid, tree, RGB(0.5, 0.5, 0.5))\n",
    "plot_face_numbers!(p_grid, tree)\n",
    "plot_element_numbers!(p_grid, tree, offset=tree.nf) # Number after faces, as in our Stokes system\n",
    "plot_corner_numbers!(p_grid, tree) # A separate numbering system\n",
    "display(p_grid)\n",
    "@printf \"⏲️ %2.2f s\\n\" time()- start"
   ]
  },
  {
   "cell_type": "markdown",
   "id": "2a03921e",
   "metadata": {},
   "source": [
    "## Solve the Stokes system"
   ]
  },
  {
   "cell_type": "code",
   "execution_count": null,
   "id": "19a63564",
   "metadata": {},
   "outputs": [],
   "source": [
    "start = time()\n",
    "h_min = 2.0^(-(max_level))\n",
    "problem = problem_Image()\n",
    "A, b, Kcont = assemble_system(tree, problem, h_min)\n",
    "x = A\\b\n",
    "v, p = sol2vp(tree, x, Kcont)\n",
    "@printf \"⏲️ %2.2f s\\n\" time() - start"
   ]
  },
  {
   "cell_type": "code",
   "execution_count": null,
   "id": "0076553a",
   "metadata": {
    "scrolled": false
   },
   "outputs": [],
   "source": [
    "start = time()\n",
    "plot_size = 1000\n",
    "p_stokes = plot(axis=nothing, xaxis=false, yaxis=false, size=(plot_size, plot_size), aspect_ratio=1)\n",
    "plot_element_field!(p_stokes, tree, p)\n",
    "c = RGB(0.25, 0.25, 0.25)\n",
    "plot_grid!(p_stokes, tree, c)\n",
    "plot_averaged_velocity_field!(p_stokes, tree, v, color=c)\n",
    "display(p_stokes)\n",
    "@printf \"⏲️ %2.2f s\\n\" time() - start"
   ]
  },
  {
   "cell_type": "markdown",
   "id": "6320cad9",
   "metadata": {},
   "source": [
    "## Push particles and generate traces\n",
    "Using a couple of helper functions to locate points and extract velocity,\n",
    "Extract some data on the paths of particles in the fluid."
   ]
  },
  {
   "cell_type": "code",
   "execution_count": null,
   "id": "6a01d3b6",
   "metadata": {},
   "outputs": [],
   "source": [
    "struct Trace\n",
    "  id::Int # An integer identifier\n",
    "  x::Array{Float64}  \n",
    "  y::Array{Float64}  \n",
    "  t::Array{Float64}\n",
    "  p::Array{Float64} \n",
    "end;"
   ]
  },
  {
   "cell_type": "code",
   "execution_count": null,
   "id": "dbd3861e",
   "metadata": {},
   "outputs": [],
   "source": [
    "function create_trace(tree::SimpleTreeMesh, x0, y0, v, p, dt=300.0, nsteps=200; id=0)\n",
    "    @assert length(v) == tree.nf\n",
    "    @assert length(p) == tree.ne\n",
    "    trace = Trace(id, [], [], [], [])\n",
    "    e_id = tree.ne ÷ 2\n",
    "    particle_y = y0\n",
    "    particle_x = x0\n",
    "    t = 0\n",
    "    dt = 1.0\n",
    "    for step in 1:nsteps\n",
    "    \n",
    "       # Collect data from the current position\n",
    "       append!(trace.x, particle_x)\n",
    "       append!(trace.y, particle_y)\n",
    "       append!(trace.t, t)\n",
    "       e_id = locate_point(tree, particle_x, particle_y, e_id)\n",
    "       append!(trace.p, p[e_id]) \n",
    "        \n",
    "       # An extremely naive (forward Euler) particle position update\n",
    "       vx, vy = get_point_velocity(tree, particle_x, particle_y, e_id, v)\n",
    "       particle_x += dt * vx\n",
    "       particle_y += dt * vy\n",
    "        \n",
    "       if particle_x < tree.coordinate_offset_x; particle_x = tree.coordinate_offset_x; end\n",
    "       if particle_x > tree.coordinate_offset_x + tree.coordinate_scale; particle_x = tree.coordinate_offset_x + tree.coordinate_scale; end\n",
    "       if particle_y < tree.coordinate_offset_y; particle_y = tree.coordinate_offset_y; end\n",
    "       if particle_y > tree.coordinate_offset_y + tree.coordinate_scale; particle_y = tree.coordinate_offset_y + tree.coordinate_scale; end\n",
    "       t += dt\n",
    "    end\n",
    "    return trace\n",
    "end;"
   ]
  },
  {
   "cell_type": "code",
   "execution_count": null,
   "id": "254579e8",
   "metadata": {},
   "outputs": [],
   "source": [
    "start = time()\n",
    "traces = []\n",
    "for i = 1:length(x0s)\n",
    "  x0 = x0s[i] \n",
    "  y0 = x0\n",
    "  append!(traces, [create_trace(tree, x0, y0, v, p, id=i)])\n",
    "end\n",
    "@printf \"⏲️ %2.2f s\\n\" time() - start"
   ]
  },
  {
   "cell_type": "markdown",
   "id": "06ed6530",
   "metadata": {},
   "source": [
    "## Plot Traces"
   ]
  },
  {
   "cell_type": "markdown",
   "id": "25c95330",
   "metadata": {},
   "source": [
    "Add traces on the existing plot and re-display:"
   ]
  },
  {
   "cell_type": "code",
   "execution_count": null,
   "id": "0823cf41",
   "metadata": {},
   "outputs": [],
   "source": [
    "start = time()\n",
    "for trace in traces\n",
    "    plot!(p_stokes, trace.x, trace.y, markershape=:circle, label=nothing, color=trace.id)\n",
    "    plot!(p_stokes, [trace.x[1]], [trace.y[1]], markershape=:star, markersize=10, label=nothing, color=trace.id)\n",
    "end\n",
    "display(p_stokes)\n",
    "@printf \"⏲️ %2.2f s\\n\" time() - start"
   ]
  },
  {
   "cell_type": "markdown",
   "id": "211c79e9",
   "metadata": {},
   "source": [
    "Plot pressure vs. time for the traces:"
   ]
  },
  {
   "cell_type": "code",
   "execution_count": null,
   "id": "f3c5a292",
   "metadata": {},
   "outputs": [],
   "source": [
    "start = time()\n",
    "p_traces = plot(xlabel=\"t\", ylabel=\"p\", size=(800,600))\n",
    "for trace in traces\n",
    "    label = @sprintf \"Trace %d\" trace.id\n",
    "    plot!(p_traces, trace.t, trace.p, marker=:circle, label=label, color=trace.id)\n",
    "    plot!(p_traces, [trace.t[1]], [trace.p[1]], markershape=:star, markersize=10, label=nothing, color=trace.id)\n",
    "end\n",
    "display(p_traces)\n",
    "@printf \"⏲️ %2.2f s\\n\" time() - start"
   ]
  },
  {
   "cell_type": "markdown",
   "id": "63ba1037",
   "metadata": {},
   "source": [
    "## Write traces to files"
   ]
  },
  {
   "cell_type": "code",
   "execution_count": null,
   "id": "4df6d2fe",
   "metadata": {},
   "outputs": [],
   "source": [
    "start = time()\n",
    "if ~isdir(\"traces\"); mkdir(\"traces\"); end\n",
    "for (trace_id, trace) in enumerate(traces)\n",
    "    filename = @sprintf \"traces/trace_%04d.txt\" trace_id\n",
    "    open(filename, \"w\") do io\n",
    "        for i = 1:length(trace.t)\n",
    "            line = @sprintf \"%g %g %g %g\\n\" trace.t[i] trace.p[i] trace.x[i] trace.y[i]\n",
    "            write(io, line)\n",
    "        end\n",
    "    end\n",
    "end;\n",
    "@printf \"⏲️ %2.2f s\\n\" time() - start"
   ]
  }
 ],
 "metadata": {
  "kernelspec": {
   "display_name": "Julia 1.8.2",
   "language": "julia",
   "name": "julia-1.8"
  },
  "language_info": {
   "file_extension": ".jl",
   "mimetype": "application/julia",
   "name": "julia",
   "version": "1.8.2"
  }
 },
 "nbformat": 4,
 "nbformat_minor": 5
}
